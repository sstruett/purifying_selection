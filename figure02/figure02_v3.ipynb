{
 "cells": [
  {
   "cell_type": "markdown",
   "id": "ef055449-407b-4058-8ba4-ced1f5ddcfba",
   "metadata": {},
   "source": [
    "# Figure 02"
   ]
  },
  {
   "cell_type": "markdown",
   "id": "43f4b677-cd88-4577-9b6f-6b2de7f4ed2f",
   "metadata": {},
   "source": [
    "A figure showing how the solitary wave of mutation load travels in the fitness space over time.\n",
    "We show the a normalized panel and the profile. Additionally we show a wave under strong selection with its profile.\n",
    "the last panel showes the predicted mean mutation load over time under different conditions of $U$ (2x) and $s$ (5x)."
   ]
  },
  {
   "cell_type": "markdown",
   "id": "67e3a891-e89f-46b7-8541-4890a7c2d560",
   "metadata": {},
   "source": [
    "## Import libraries"
   ]
  },
  {
   "cell_type": "code",
   "execution_count": 1,
   "id": "3240d94c-f2b1-4ae6-a983-cc1cba96aeb4",
   "metadata": {},
   "outputs": [
    {
     "name": "stdout",
     "output_type": "stream",
     "text": [
      "True\n"
     ]
    }
   ],
   "source": [
    "import glob\n",
    "import os\n",
    "import pickle\n",
    "import re\n",
    "import sys\n",
    "import time\n",
    "\n",
    "import matplotlib.pyplot as plt\n",
    "import matplotlib.transforms as mtrans\n",
    "import matplotlib as mpl\n",
    "import numpy as np\n",
    "import pandas as pd\n",
    "import seaborn as sns\n",
    "import tqdm\n",
    "from scipy.stats import poisson\n",
    "\n",
    "from calc_coalescence_densities import *\n",
    "from travelling_wave_approach import *\n",
    "\n",
    "print(imported())"
   ]
  },
  {
   "cell_type": "markdown",
   "id": "1c854fe0-1972-412e-920a-58dd813b8f94",
   "metadata": {},
   "source": [
    "## Parameters and functions"
   ]
  },
  {
   "cell_type": "code",
   "execution_count": 2,
   "id": "63855b31-4692-4aac-9062-e69695297ad3",
   "metadata": {},
   "outputs": [
    {
     "name": "stdout",
     "output_type": "stream",
     "text": [
      "phi=6.12e-07\n"
     ]
    }
   ],
   "source": [
    "seed = 42\n",
    "N, _, U = 5000, 4e-4, 0.006\n",
    "U2 = 0.004\n",
    "print(f\"phi={phi(N, _, U)}\")\n",
    "s_list = [0, 1e-4, 4e-4, 2e-3, 4.1e-3]"
   ]
  },
  {
   "cell_type": "code",
   "execution_count": 3,
   "id": "d17e71e9-43f3-4b46-9577-5691ba80b575",
   "metadata": {},
   "outputs": [],
   "source": [
    "def add_wave_to_ax(ax, wave, ylim=None, title=None, cbar_pad=0, cpad=0, cbar=True):\n",
    "    my_map = np.log10(wave.T+1)\n",
    "    ax = sns.heatmap(my_map, ax=ax, cmap=\"inferno\", mask=my_map==0, cbar=cbar)\n",
    "    ax.invert_yaxis()\n",
    "    ax.set_xlabel(\"Time (gen)\")\n",
    "    ax.set_ylabel(\"Mutation load\")\n",
    "    # xticks\n",
    "    xticks = np.arange(0, my_map.shape[1]+1, 2000)\n",
    "    ax.set_xticks(xticks)\n",
    "    ax.set_xticklabels(xticks, rotation = 0)\n",
    "    \n",
    "    # yticks\n",
    "    yticks = np.arange(0, my_map.shape[0]+1, 10)\n",
    "    ax.set_yticks(yticks)\n",
    "    ax.set_yticklabels(yticks)\n",
    "\n",
    "    if cbar:\n",
    "        cbar = ax.collections[0].colorbar\n",
    "        #cbar = plt.colorbar(ax=ax, pad=cpad)\n",
    "        cbar.set_label('Number of individuals',\n",
    "                       labelpad=cbar_pad,\n",
    "                       size=8\n",
    "                      )  # Adjust the labelpad value as needed\n",
    "        cbar_ticks = np.array([1, 2, 5, 10, 20, 50, 100, 200, 500, 1000, 2000])\n",
    "        cbar.set_ticks(np.log10(cbar_ticks + 1))\n",
    "        cbar.set_ticklabels(cbar_ticks)\n",
    "    \n",
    "    ax.patch.set_edgecolor('black')\n",
    "    ax.patch.set_linewidth(1)\n",
    "\n",
    "    if not ylim is None:\n",
    "        ax.set_ylim(*ylim)\n",
    "\n",
    "    if not title is None:\n",
    "        ax.set_title(title)\n",
    "\n",
    "    return"
   ]
  },
  {
   "cell_type": "code",
   "execution_count": 4,
   "id": "383997c6-2f37-481a-8ed0-ec6319b33839",
   "metadata": {
    "jupyter": {
     "source_hidden": true
    }
   },
   "outputs": [],
   "source": [
    "def add_profile_to_ax(ax, data_frame):\n",
    "    plot = sns.pointplot(\n",
    "        data_frame,\n",
    "        errorbar=(\"pi\", 50),\n",
    "        linewidth=0.7,\n",
    "        err_kws=dict(linewidth=0.7, alpha=0.7),\n",
    "        orient=\"h\",\n",
    "        ax=ax,\n",
    "        color=\"black\"\n",
    "    )\n",
    "\n",
    "    return"
   ]
  },
  {
   "cell_type": "code",
   "execution_count": 5,
   "id": "8d3197cb-0ec8-4234-9d2f-56960e8fcf5c",
   "metadata": {},
   "outputs": [],
   "source": [
    "def do_despine(ax, spines=[\"right\", \"top\", \"left\", \"bottom\"]):\n",
    "    for pos in spines:\n",
    "        ax.spines[pos].set_visible(False)\n",
    "\n",
    "    return"
   ]
  },
  {
   "cell_type": "markdown",
   "id": "3278c487-e0ab-4150-9017-32a3219ec6f1",
   "metadata": {},
   "source": [
    "## Data and processing"
   ]
  },
  {
   "cell_type": "code",
   "execution_count": 6,
   "id": "05197c37-be17-48ec-bb6d-5c7908bbcf42",
   "metadata": {
    "scrolled": true
   },
   "outputs": [
    {
     "name": "stdout",
     "output_type": "stream",
     "text": [
      "phi=0\n"
     ]
    },
    {
     "name": "stderr",
     "output_type": "stream",
     "text": [
      " fitness wave (1/1): 100%|██████████████████████████████████████████████████████████████████████████| 11999/11999 [00:06<00:00, 1910.41it/s]\n",
      " calc wave (1/1): 100%|████████████████████████████████████████████████████████████████████████████| 12000/12000 [00:01<00:00, 10208.61it/s]\n"
     ]
    },
    {
     "name": "stdout",
     "output_type": "stream",
     "text": [
      "phi=4.38e-27\n"
     ]
    },
    {
     "name": "stderr",
     "output_type": "stream",
     "text": [
      " fitness wave (1/1): 100%|██████████████████████████████████████████████████████████████████████████| 11999/11999 [00:06<00:00, 1863.38it/s]\n",
      " calc wave (1/1): 100%|████████████████████████████████████████████████████████████████████████████| 12000/12000 [00:01<00:00, 10213.17it/s]\n"
     ]
    },
    {
     "name": "stdout",
     "output_type": "stream",
     "text": [
      "phi=6.12e-07\n"
     ]
    },
    {
     "name": "stderr",
     "output_type": "stream",
     "text": [
      " fitness wave (1/1): 100%|██████████████████████████████████████████████████████████████████████████| 11999/11999 [00:06<00:00, 1863.93it/s]\n",
      " calc wave (1/1): 100%|████████████████████████████████████████████████████████████████████████████| 12000/12000 [00:01<00:00, 10596.89it/s]\n"
     ]
    },
    {
     "name": "stdout",
     "output_type": "stream",
     "text": [
      "phi=0.498\n"
     ]
    },
    {
     "name": "stderr",
     "output_type": "stream",
     "text": [
      " fitness wave (1/1): 100%|██████████████████████████████████████████████████████████████████████████| 11999/11999 [00:06<00:00, 1869.19it/s]\n",
      " calc wave (1/1): 100%|████████████████████████████████████████████████████████████████████████████| 12000/12000 [00:01<00:00, 11537.96it/s]\n"
     ]
    },
    {
     "name": "stdout",
     "output_type": "stream",
     "text": [
      "phi=4.74\n"
     ]
    },
    {
     "name": "stderr",
     "output_type": "stream",
     "text": [
      " fitness wave (1/1): 100%|██████████████████████████████████████████████████████████████████████████| 11999/11999 [00:06<00:00, 1866.57it/s]\n",
      " calc wave (1/1): 100%|████████████████████████████████████████████████████████████████████████████| 12000/12000 [00:00<00:00, 12232.52it/s]\n"
     ]
    }
   ],
   "source": [
    "thrown_stones = []\n",
    "\n",
    "for s in s_list:\n",
    "    print(f\"phi={phi(N, s, U)}\")\n",
    "    thrown_stone = throw_a_stone(\n",
    "        N,\n",
    "        s, \n",
    "        U,\n",
    "        options={\"mode\": \"velocity_and_distribution\",\n",
    "                 \"burnin\": 0,\n",
    "                 \"burnin_fitter\": 2_000,\n",
    "                 \"generations\": 12_000,\n",
    "                 \"thinning\": 1,\n",
    "                 \"return_wave\": True,\n",
    "                 \"return_fitter\": True,\n",
    "                 \"return_sim\": True},\n",
    "        seed = seed\n",
    "    )\n",
    "\n",
    "    thrown_stones.append(thrown_stone)"
   ]
  },
  {
   "cell_type": "code",
   "execution_count": 7,
   "id": "6d7f2f0b-7fa8-4fa0-8706-0ef24260bb07",
   "metadata": {},
   "outputs": [
    {
     "name": "stdout",
     "output_type": "stream",
     "text": [
      "0.8497533752309337\n",
      "0.6803027945570255\n",
      "0.43219828964158086\n",
      "0.083924457780645\n",
      "0.011550117487101087\n"
     ]
    }
   ],
   "source": [
    "# extract the waves\n",
    "waves = []\n",
    "\n",
    "for stone in thrown_stones:\n",
    "    (velocity, distribution), wave, fitter, sim = stone\n",
    "    print(velocity)\n",
    "    waves.append(wave)"
   ]
  },
  {
   "cell_type": "code",
   "execution_count": 8,
   "id": "177ed2ab-7a62-40a4-8c18-609b2d9a4caa",
   "metadata": {
    "scrolled": true
   },
   "outputs": [
    {
     "name": "stdout",
     "output_type": "stream",
     "text": [
      "0.8497533752309337\n"
     ]
    },
    {
     "name": "stderr",
     "output_type": "stream",
     "text": [
      " calc wave: 100%|██████████████████████████████████████████████████████████████████████████████████| 12000/12000 [00:01<00:00, 10125.78it/s]\n"
     ]
    },
    {
     "name": "stdout",
     "output_type": "stream",
     "text": [
      "0.6803027945570255\n"
     ]
    },
    {
     "name": "stderr",
     "output_type": "stream",
     "text": [
      " calc wave: 100%|██████████████████████████████████████████████████████████████████████████████████| 12000/12000 [00:01<00:00, 10205.96it/s]\n"
     ]
    },
    {
     "name": "stdout",
     "output_type": "stream",
     "text": [
      "0.43219828964158086\n"
     ]
    },
    {
     "name": "stderr",
     "output_type": "stream",
     "text": [
      " calc wave: 100%|███████████████████████████████████████████████████████████████████████████████████| 12000/12000 [00:01<00:00, 9604.17it/s]\n"
     ]
    },
    {
     "name": "stdout",
     "output_type": "stream",
     "text": [
      "0.083924457780645\n"
     ]
    },
    {
     "name": "stderr",
     "output_type": "stream",
     "text": [
      " calc wave: 100%|██████████████████████████████████████████████████████████████████████████████████| 12000/12000 [00:01<00:00, 11540.46it/s]\n"
     ]
    },
    {
     "name": "stdout",
     "output_type": "stream",
     "text": [
      "0.011550117487101087\n"
     ]
    },
    {
     "name": "stderr",
     "output_type": "stream",
     "text": [
      " calc wave: 100%|██████████████████████████████████████████████████████████████████████████████████| 12000/12000 [00:00<00:00, 12680.39it/s]\n"
     ]
    }
   ],
   "source": [
    "# create normalized waves\n",
    "waves_norm = []\n",
    "for stone in thrown_stones:\n",
    "    (velocity, distribution), wave, fitter, sim = stone\n",
    "    print(velocity)\n",
    "    mean_fitness_pred = fitter.predict(np.arange(sim.shape[0]).reshape(-1, 1))\n",
    "    sim_norm = sim - mean_fitness_pred[:, np.newaxis]\n",
    "    sim_norm = sim_norm - sim_norm.min()\n",
    "\n",
    "    bin_edges = np.arange(-0.5, np.ceil(sim.max()) + 1.5, 1)\n",
    "    simhk_t = np.zeros((sim_norm.shape[0], len(bin_edges)-1))\n",
    "\n",
    "    for generation_index in tqdm.trange(\n",
    "        simhk_t.shape[0],\n",
    "        desc=f\" calc wave\",\n",
    "    ):\n",
    "        simhk_t_i, _ = np.histogram(sim_norm[generation_index, :], bins=bin_edges)\n",
    "        simhk_t[generation_index, :] = simhk_t_i\n",
    "    \n",
    "    \n",
    "    waves_norm.append(simhk_t)"
   ]
  },
  {
   "cell_type": "code",
   "execution_count": 9,
   "id": "7339b3e8-c291-4c25-b699-90c3d926d14c",
   "metadata": {
    "scrolled": true
   },
   "outputs": [
    {
     "name": "stdout",
     "output_type": "stream",
     "text": [
      "phi=0\n"
     ]
    },
    {
     "name": "stderr",
     "output_type": "stream",
     "text": [
      " fitness wave (1/1): 100%|██████████████████████████████████████████████████████████████████████████| 11999/11999 [00:06<00:00, 1913.97it/s]\n",
      " calc wave (1/1): 100%|████████████████████████████████████████████████████████████████████████████| 12000/12000 [00:01<00:00, 10327.84it/s]\n"
     ]
    },
    {
     "name": "stdout",
     "output_type": "stream",
     "text": [
      "0.949835866264862\n",
      "phi=2.12e-18\n"
     ]
    },
    {
     "name": "stderr",
     "output_type": "stream",
     "text": [
      " fitness wave (1/1): 100%|██████████████████████████████████████████████████████████████████████████| 11999/11999 [00:06<00:00, 1853.22it/s]\n",
      " calc wave (1/1): 100%|████████████████████████████████████████████████████████████████████████████| 12000/12000 [00:01<00:00, 10637.49it/s]\n"
     ]
    },
    {
     "name": "stdout",
     "output_type": "stream",
     "text": [
      "0.7036507478265076\n",
      "phi=9.08e-05\n"
     ]
    },
    {
     "name": "stderr",
     "output_type": "stream",
     "text": [
      " fitness wave (1/1): 100%|██████████████████████████████████████████████████████████████████████████| 11999/11999 [00:06<00:00, 1857.37it/s]\n",
      " calc wave (1/1): 100%|████████████████████████████████████████████████████████████████████████████| 12000/12000 [00:01<00:00, 11276.40it/s]\n"
     ]
    },
    {
     "name": "stdout",
     "output_type": "stream",
     "text": [
      "0.4262462284140616\n",
      "phi=1.35\n"
     ]
    },
    {
     "name": "stderr",
     "output_type": "stream",
     "text": [
      " fitness wave (1/1): 100%|██████████████████████████████████████████████████████████████████████████| 11999/11999 [00:06<00:00, 1846.12it/s]\n",
      " calc wave (1/1): 100%|████████████████████████████████████████████████████████████████████████████| 12000/12000 [00:00<00:00, 12261.58it/s]\n"
     ]
    },
    {
     "name": "stdout",
     "output_type": "stream",
     "text": [
      "0.09109595946375931\n",
      "phi=7.73\n"
     ]
    },
    {
     "name": "stderr",
     "output_type": "stream",
     "text": [
      " fitness wave (1/1): 100%|██████████████████████████████████████████████████████████████████████████| 11999/11999 [00:06<00:00, 1851.25it/s]\n",
      " calc wave (1/1): 100%|████████████████████████████████████████████████████████████████████████████| 12000/12000 [00:00<00:00, 13332.86it/s]\n"
     ]
    },
    {
     "name": "stdout",
     "output_type": "stream",
     "text": [
      "-0.0030599887178999027\n"
     ]
    }
   ],
   "source": [
    "# prepare the second mutation rate predictions\n",
    "prediction_times = np.arange(0, 12_000, 100)\n",
    "predicted_means_2 = []\n",
    "for s in s_list:\n",
    "    print(f\"phi={phi(N, s, U2)}\")\n",
    "    thrown_stone = throw_a_stone(\n",
    "        N,\n",
    "        s, \n",
    "        U2,\n",
    "        options={\"mode\": \"velocity_and_distribution\",\n",
    "                 \"burnin\": 0,\n",
    "                 \"burnin_fitter\": 2_000,\n",
    "                 \"generations\": 12_000,\n",
    "                 \"thinning\": 1,\n",
    "                 \"return_wave\": True,\n",
    "                 \"return_fitter\": True,\n",
    "                 \"return_sim\": True},\n",
    "        seed = seed + 42\n",
    "    )\n",
    "\n",
    "    (velocity, distribution), wave, fitter, sim = thrown_stone\n",
    "    time.sleep(0.1)\n",
    "    print(velocity)\n",
    "    mean_fitness_pred = fitter.predict(prediction_times.reshape(-1, 1))\n",
    "    predicted_means_2.append(mean_fitness_pred)\n",
    "predicted_means_2 = pd.DataFrame(np.array(predicted_means_2).T, index=prediction_times)"
   ]
  },
  {
   "cell_type": "code",
   "execution_count": 10,
   "id": "ca31058a-3cb5-447f-8254-d2a4ea09037a",
   "metadata": {
    "scrolled": true
   },
   "outputs": [
    {
     "name": "stdout",
     "output_type": "stream",
     "text": [
      "0.8497533752309337\n",
      "0.6803027945570255\n",
      "0.43219828964158086\n",
      "0.083924457780645\n",
      "0.011550117487101087\n"
     ]
    }
   ],
   "source": [
    "predicted_means = []\n",
    "for stone in thrown_stones:\n",
    "    (velocity, distribution), wave, fitter, sim = stone\n",
    "    print(velocity)\n",
    "    mean_fitness_pred = fitter.predict(prediction_times.reshape(-1, 1))\n",
    "    predicted_means.append(mean_fitness_pred)\n",
    "predicted_means = pd.DataFrame(np.array(predicted_means).T, index=prediction_times)"
   ]
  },
  {
   "cell_type": "code",
   "execution_count": 11,
   "id": "f725dbbd-108f-4489-9972-267caf1eddac",
   "metadata": {},
   "outputs": [],
   "source": [
    "if True:\n",
    "    a = predicted_means.reset_index(names=\"time\").melt(id_vars=\"time\", var_name=\"sel_id\", value_name=\"mutload\")\n",
    "    a[\"U\"] = U\n",
    "    b = predicted_means_2.reset_index(names=\"time\").melt(id_vars=\"time\", var_name=\"sel_id\", value_name=\"mutload\")\n",
    "    b[\"U\"] = U2"
   ]
  },
  {
   "cell_type": "code",
   "execution_count": 12,
   "id": "c8b2ecd4-44f8-4c3c-99dd-6302d191cf75",
   "metadata": {},
   "outputs": [],
   "source": [
    "if False:\n",
    "    predicted_means = pd.concat([a, b])\n",
    "    predicted_means[\"freq\"] = predicted_means[\"mutload\"] / (12_000 * predicted_means[\"U\"])\n",
    "    predicted_means[\"id\"] = predicted_means[\"sel_id\"].apply(str) + \"_\" + predicted_means[\"U\"].apply(str)\n",
    "\n",
    "    predicted_means.head()"
   ]
  },
  {
   "cell_type": "code",
   "execution_count": 13,
   "id": "86a65909-63b9-46ac-a5cf-600bdb7637b8",
   "metadata": {},
   "outputs": [],
   "source": [
    "a[\"sel\"] = a[\"sel_id\"].apply(lambda x: N * s_list[x])"
   ]
  },
  {
   "cell_type": "code",
   "execution_count": 14,
   "id": "ab3669ad-aa5d-4f53-b970-db8d4c38e85a",
   "metadata": {},
   "outputs": [],
   "source": [
    "b[\"sel\"] = b[\"sel_id\"].apply(lambda x: N * s_list[x])"
   ]
  },
  {
   "cell_type": "markdown",
   "id": "41759f2c-d27f-40ff-a9f9-fceb7e0da300",
   "metadata": {},
   "source": [
    "## Visualisation"
   ]
  },
  {
   "cell_type": "code",
   "execution_count": 15,
   "id": "239cc2b4-a1ca-4b8a-9081-8d71696c823f",
   "metadata": {},
   "outputs": [],
   "source": [
    "old_style = False\n",
    "if old_style:\n",
    "    sns.set(style=\"ticks\", context=\"paper\", font_scale=1)\n",
    "    \n",
    "    fig = plt.figure(figsize=(7.5, 5.5))\n",
    "    gs = fig.add_gridspec(nrows=2, ncols=5)\n",
    "    ax1 = fig.add_subplot(gs[0, 0:2])\n",
    "    ax2 = fig.add_subplot(gs[0, 2:4])\n",
    "    ax3 = fig.add_subplot(gs[0, 4])\n",
    "    ax4 = fig.add_subplot(gs[1, 0:2])\n",
    "    ax5 = fig.add_subplot(gs[1, 2:4])\n",
    "    ax6 = fig.add_subplot(gs[1, 4])\n",
    "    \n",
    "    #ax = np.array([[ax1, ax2, ax3], [ax4, ax5, ax6]])\n",
    "    \n",
    "    # waves\n",
    "    add_wave_to_ax(\n",
    "        ax1, waves[2], title=\"Traveling fitness wave\", cbar_pad=-49, cbar=False\n",
    "    )\n",
    "    add_wave_to_ax(ax2, waves_norm[2], title=\"Normalized fitness wave\", cbar_pad=-44)\n",
    "    ax2.set_xlim(2_000, None)\n",
    "    add_wave_to_ax(\n",
    "        ax5,\n",
    "        waves[4],\n",
    "        ylim=[0, 23],\n",
    "        #yticks=np.arange(0, 100, 10),\n",
    "        title=\"Fitness at $\\mu/s$ balance\",\n",
    "        cbar_pad=-44,\n",
    "    )\n",
    "    ax5.set_xlim(2_000, None)\n",
    "    ax5.set_yticks([0, 10, 20])\n",
    "    ax5.set_yticklabels([0, 10, 20])\n",
    "    \n",
    "    # profiles\n",
    "    add_profile_to_ax(ax3, (pd.DataFrame(waves_norm[2][2000:, :]) / N).iloc[:, 0:23])\n",
    "    ax3.invert_yaxis()\n",
    "    ax3.set_yticks(np.arange(0, 50, 10))\n",
    "    ax3.set_yticklabels(np.arange(0, 50, 10))\n",
    "    ax3.set_ylim(None, 46)\n",
    "    ax3.set_xlabel(\"Frequency\")\n",
    "    ax3.set_ylabel(\"Mutation load\")\n",
    "    ax3.set_title(\"Wave profile\")\n",
    "    \n",
    "    # theoretical result\n",
    "    k_nd = np.arange(12)\n",
    "    profile_nd = np.array([hk(_, U, s) for _ in k_nd])\n",
    "    ax6.plot(profile_nd, k_nd, color=\"purple\", label=\"$h_k$ ($\\Theta$)\")\n",
    "    add_profile_to_ax(ax6, pd.DataFrame(waves[4][2000:, :]) / N)\n",
    "    ax6.invert_yaxis()\n",
    "    ax6.legend(loc=\"best\")\n",
    "    ax6.set_ylim(None, 23)\n",
    "    ax6.set_yticks([0, 10, 20])\n",
    "    ax6.set_yticklabels([0, 10, 20])\n",
    "    ax6.set_xlabel(\"Frequency\")\n",
    "    ax6.set_ylabel(\"Mutation load\")\n",
    "    ax6.set_title(\"Wave profile\")\n",
    "    \n",
    "    # mean fitness prediction\n",
    "    plt.axes(ax4)\n",
    "    lines = []\n",
    "    lines2 = []\n",
    "    for colid, col in enumerate(predicted_means.columns):\n",
    "        (l_,) = plt.plot(\n",
    "            predicted_means.index,\n",
    "            predicted_means[col],\n",
    "            linewidth=3,\n",
    "            linestyle=\"-\",\n",
    "            color=sns.color_palette(\"dark:salmon_r\")[colid],\n",
    "            label=f\"s = {s_list[colid]}\",\n",
    "        )\n",
    "        lines.append(l_)\n",
    "    for colid, col in enumerate(predicted_means_2.columns):\n",
    "        (l_,) = plt.plot(\n",
    "            predicted_means_2.index,\n",
    "            predicted_means_2[col],\n",
    "            linewidth=1.2,\n",
    "            linestyle=\"dashed\",\n",
    "            color=sns.color_palette(\"dark:salmon_r\")[colid],\n",
    "            label=f\"s = {s_list[colid]}\",\n",
    "        )\n",
    "        lines2.append(l_)\n",
    "    legend_1 = plt.legend(\n",
    "        lines,\n",
    "        [f\"$Ns = {N * s_list[colid]}$\" for colid in range(5)],\n",
    "        loc=\"upper left\",\n",
    "        title=f\"Selection\\nstrength\",\n",
    "        framealpha=0.95,\n",
    "        fontsize=8\n",
    "    )\n",
    "    plt.legend(\n",
    "        [lines[-1], lines2[-1]],\n",
    "        [f\"$U_d = {U}$\", f\"$U_d={U2}$\"],\n",
    "        loc=\"upper right\",\n",
    "        #bbox_to_anchor=(0.45, 1),\n",
    "        title=f\"Mutation\\nrate\",\n",
    "        framealpha=0.95,\n",
    "        fontsize=8\n",
    "    )\n",
    "    plt.gca().add_artist(legend_1)\n",
    "    ax4.set_title(\"Mean fitness prediction\")\n",
    "    ax4.set_xlabel(\"Time in generations\")\n",
    "    ax4.set_ylabel(\"Mutation load\")\n",
    "    ax4.set_ylim(0, 46)\n",
    "    ax4.set_xlim(0, 12_000)\n",
    "    # ax4.set_aspect(12_000 / 55)\n",
    "    ax4.patch.set_linewidth(0.7)\n",
    "    plt.yticks(ticks=[0, 10, 20, 30, 40], rotation=90)\n",
    "    \n",
    "    axes = [ax1, ax2, ax3, ax4, ax5, ax6]\n",
    "    labels = [\"A\", \"B\", \"C\", \"D\", \"E\", \"F\"]\n",
    "    for ax_, label_ in zip(axes, labels):\n",
    "        ax_.text(\n",
    "            -0.1, 1.15, label_,\n",
    "            transform=ax_.transAxes,\n",
    "            fontsize=14,\n",
    "            va='top',\n",
    "            ha='right'\n",
    "        )\n",
    "    \n",
    "    \n",
    "    for ax_ in [ax2, ax3, ax5, ax6]:\n",
    "        ax_.set_ylabel(None)\n",
    "        #ax_.set_yticklabels([])\n",
    "    \n",
    "    for ax_ in [ax1, ax2, ax3]:\n",
    "        ax_.set_xlabel(None)\n",
    "    \n",
    "    \n",
    "    plt.tight_layout(h_pad=1.08, w_pad=-0.25)\n",
    "    \n",
    "    plt.show()\n",
    "    plt.close()"
   ]
  },
  {
   "cell_type": "code",
   "execution_count": 27,
   "id": "d4d64b6c-db94-4e09-82f9-6a5d8b845ec1",
   "metadata": {},
   "outputs": [],
   "source": [
    "def add_wave_to_ax(ax, wave, ylim=None, title=None, cbar_pad=0, cpad=0, cbar=True, cbar_ax=None, ylabel=True):\n",
    "    my_map = np.log10(wave.T+1)\n",
    "    ax = sns.heatmap(my_map, ax=ax, cmap=\"inferno\", mask=my_map==0, cbar=cbar, cbar_ax=cbar_ax if cbar else None)\n",
    "    ax.invert_yaxis()\n",
    "    ax.set_xlabel(\"Time (gen)\")\n",
    "    if ylabel:\n",
    "        ax.set_ylabel(\"Mutation load\")\n",
    "    # xticks\n",
    "    xticks = np.arange(0, my_map.shape[1], 3000)\n",
    "    ax.set_xticks(xticks)\n",
    "    ax.set_xticklabels(xticks, rotation = 0)\n",
    "    \n",
    "    # yticks\n",
    "    yticks = np.arange(0, my_map.shape[0]+1, 10)\n",
    "    ax.set_yticks(yticks)\n",
    "    ax.set_yticklabels(yticks)\n",
    "\n",
    "    if cbar:\n",
    "        cbar = ax.collections[0].colorbar\n",
    "        #cbar = plt.colorbar(ax=ax, pad=cpad)\n",
    "        cbar.set_label('Number of individuals',\n",
    "                       labelpad=cbar_pad,\n",
    "                       size=9.4\n",
    "                      )  # Adjust the labelpad value as needed\n",
    "        cbar_ticks = np.array([1, 2, 5, 10, 20, 50, 100, 200, 500, 1000, 2000])\n",
    "        cbar.set_ticks(np.log10(cbar_ticks + 1))\n",
    "        cbar.set_ticklabels(cbar_ticks)\n",
    "    \n",
    "    ax.patch.set_edgecolor('black')\n",
    "    ax.patch.set_linewidth(1)\n",
    "\n",
    "    if not ylim is None:\n",
    "        ax.set_ylim(*ylim)\n",
    "\n",
    "    if not title is None:\n",
    "        ax.set_title(title)\n",
    "\n",
    "    return"
   ]
  },
  {
   "cell_type": "code",
   "execution_count": 28,
   "id": "a715209d-83cd-41ce-b2b0-5a3ccbec6829",
   "metadata": {},
   "outputs": [],
   "source": [
    "def add_profile_to_ax(ax, data_frame=None, make_legend=False):\n",
    "    data_frame = data_frame.melt(var_name=\"mutload\", value_name=\"freq\")\n",
    "    data_frame[\"color\"] = make_legend\n",
    "    \n",
    "    ax = sns.pointplot(\n",
    "        data=data_frame,\n",
    "        x=\"freq\",\n",
    "        y=\"mutload\",\n",
    "        hue=\"color\" if make_legend else None,\n",
    "        errorbar=(\"pi\", 50),\n",
    "        linewidth=0.7,\n",
    "        err_kws=dict(linewidth=0.7, alpha=0.7),\n",
    "        orient=\"h\",\n",
    "        ax=ax,\n",
    "        color=\"black\" if not make_legend else None,\n",
    "        palette=[\"black\"] if make_legend else None\n",
    "    )\n",
    "\n",
    "    if make_legend:\n",
    "        ax.legend(title=None)\n",
    "\n",
    "    return ax"
   ]
  },
  {
   "cell_type": "code",
   "execution_count": 36,
   "id": "8612357e-bf77-4d0e-a41a-47df85176742",
   "metadata": {},
   "outputs": [
    {
     "data": {
      "image/png": "[encoded data removed]",
      "text/plain": [
       "<Figure size 750x500 with 7 Axes>"
      ]
     },
     "metadata": {},
     "output_type": "display_data"
    }
   ],
   "source": [
    "sns.set(style=\"ticks\", context=\"paper\", font_scale=1.0)\n",
    "\n",
    "#figsize = (9.5, 5.5)\n",
    "figsize = 7.5, 5\n",
    "fig = plt.figure(figsize=figsize, constrained_layout=False)\n",
    "\n",
    "# panels\n",
    "gs = fig.add_gridspec(nrows=2, ncols=11, wspace=.75, hspace=0.5)\n",
    "\n",
    "gs1 = gs[0, :4].subgridspec(1, 4, wspace=0.05)\n",
    "gs2 = gs[0, 3:7].subgridspec(1, 4, wspace=0.05)\n",
    "gs3 = gs[0, 7:11].subgridspec(1, 4, wspace=0.05)\n",
    "\n",
    "gs4 = gs[1, :11].subgridspec(1, 2)\n",
    "\n",
    "gs_cbar = gs[1, 9].subgridspec(1, 3)\n",
    "\n",
    "ax1 = fig.add_subplot(gs1[0, 0:3])\n",
    "ax2 = fig.add_subplot(gs2[0, 0:3])\n",
    "ax2_1 = fig.add_subplot(gs2[0, 3])\n",
    "ax3 = fig.add_subplot(gs3[0, 0:3])\n",
    "ax3_1 = fig.add_subplot(gs3[0, 3])\n",
    "\n",
    "ax4 = fig.add_subplot(gs4[0, 0])\n",
    "\n",
    "ax_cbar = fig.add_subplot(gs_cbar[0, 0])\n",
    "\n",
    "\n",
    "# waves\n",
    "add_wave_to_ax(\n",
    "    ax1, waves[2], title=\"$N \\, s = 2$\", cbar_pad=-48, cbar=True, cbar_ax=ax_cbar\n",
    ")\n",
    "ax1.set_xlim(2_000, None)\n",
    "add_wave_to_ax(ax2, waves_norm[2], title=\"Normalized\\n$(N \\, s = 2)$\", cbar=False, \n",
    "    ylabel=False)\n",
    "ax2.set_xlim(2_000, None)\n",
    "ax2.set_yticklabels([])\n",
    "add_wave_to_ax(\n",
    "    ax3,\n",
    "    waves[4],\n",
    "    ylim=[0, 23],\n",
    "    #yticks=np.arange(0, 100, 10),\n",
    "    title=\"$N \\, s = 20.5$\",\n",
    "    cbar=False,\n",
    "    ylabel=False\n",
    ")\n",
    "plt.axes(ax3)\n",
    "plt.yticks(ticks=np.arange(0, 20+1, 5), labels=np.arange(0, 20+1, 5), rotation=0)\n",
    "ax3.set_xlim(2_000, None)\n",
    "#ax3.set_yticks([0, 10, 20])\n",
    "#ax3.set_yticklabels([0, 10, 20])\n",
    "\n",
    "# profiles\n",
    "ax2_1 = add_profile_to_ax(ax2_1, (pd.DataFrame(waves_norm[2][2000:, :]) / N).iloc[:, 0:23])\n",
    "ax2_1.invert_yaxis()\n",
    "ax2_1.set_yticks([])\n",
    "ax2_1.set_ylim(None, 46)\n",
    "ax2_1.set_xlabel(\"Freq\")\n",
    "do_despine(ax2_1, spines=[\"top\", \"right\", \"left\"])\n",
    "ax2_1.set_xticks([0, 0.1])\n",
    "ax2_1.set_xticklabels([\"0\", \"0.1\"])\n",
    "ax2_1.set_ylabel(None)\n",
    "#ax2_1.set_title(\"Wave profile\")\n",
    "\n",
    "# theoretical result\n",
    "k_nd = np.arange(12)\n",
    "profile_nd = np.array([hk(_, U, s) for _ in k_nd])\n",
    "ax3_1.plot(profile_nd, k_nd, color=\"violet\", label=\"Theoretical\\nexpectation\", linewidth=2)\n",
    "ax3_1 = add_profile_to_ax(ax3_1, pd.DataFrame(waves[4][2000:, :]) / N, make_legend=\"Simulated\")\n",
    "ax3_1.legend().get_frame().set_alpha(1.0)\n",
    "ax3_1.invert_yaxis()\n",
    "#ax3_1.legend(loc=\"best\")\n",
    "ax3_1.set_ylim(None, 23)\n",
    "ax3_1.set_yticks([])\n",
    "ax3_1.set_xlabel(\"Freq\")\n",
    "do_despine(ax3_1, spines=[\"top\", \"right\", \"left\"])\n",
    "ax3_1.set_xticks([0, 0.25])\n",
    "ax3_1.set_xticklabels([\"0\", \"0.25\"])\n",
    "ax3_1.set_ylabel(None)\n",
    "#ax3_1.set_title(\"Wave profile\")\n",
    "\n",
    "# mean fitness prediction\n",
    "plt.axes(ax4)\n",
    "lines = []\n",
    "lines2 = []\n",
    "#my_color_palette = sns.color_palette(\"flare\")\n",
    "#my_color_palette = ['#f6eff7','#bdc9e1','#67a9cf','#1c9099','#016c59']\n",
    "my_color_palette = \"\"\"\n",
    "#f6eff7\n",
    "#d0d1e6\n",
    "#a6bddb\n",
    "#67a9cf\n",
    "#1c9099\n",
    "#016c59\n",
    "\"\"\".split()[1:]\n",
    "\n",
    "for colid, col in enumerate(predicted_means.columns):\n",
    "    (l_,) = plt.plot(\n",
    "        predicted_means.index,\n",
    "        predicted_means[col],\n",
    "        linewidth=3,\n",
    "        linestyle=\"-\",\n",
    "        color=my_color_palette[colid],\n",
    "        label=f\"s = {s_list[colid]}\",\n",
    "    )\n",
    "    lines.append(l_)\n",
    "for colid, col in enumerate(predicted_means_2.columns):\n",
    "    (l_,) = plt.plot(\n",
    "        predicted_means_2.index,\n",
    "        predicted_means_2[col],\n",
    "        linewidth=1.2,\n",
    "        linestyle=\"dashed\",\n",
    "        color=my_color_palette[colid],\n",
    "        label=f\"s = {s_list[colid]}\",\n",
    "    )\n",
    "    lines2.append(l_)\n",
    "legend_1 = plt.legend(\n",
    "    lines,\n",
    "    [f\"$Ns = {N * s_list[colid]}$\" for colid in range(5)],\n",
    "    #loc=\"upper left\",\n",
    "    bbox_to_anchor=(1, 1),\n",
    "    title=f\"Selection\\nstrength\",\n",
    "    framealpha=0.95,\n",
    "    fontsize=8,\n",
    ")\n",
    "plt.legend(\n",
    "    [lines[-1], lines2[-1]],\n",
    "    [f\"$U_d = {U}$\", f\"$U_d={U2}$\"],\n",
    "    loc=\"upper left\",\n",
    "    #bbox_to_anchor=(1.32, 1),\n",
    "    bbox_to_anchor=(1.37, 1),\n",
    "    title=f\"Mutation\\nrate\",\n",
    "    framealpha=0.95,\n",
    "    fontsize=8\n",
    ")\n",
    "plt.gca().add_artist(legend_1)\n",
    "ax4.set_title(\"Mean fitness prediction\")\n",
    "ax4.set_xlabel(\"Time (gen)\")\n",
    "ax4.set_ylabel(\"Mutation load\")\n",
    "ax4.set_ylim(0, 57)\n",
    "ax4.set_xlim(0, 12_000)\n",
    "# ax4.set_aspect(12_000 / 55)\n",
    "ax4.patch.set_linewidth(0.7)\n",
    "plt.yticks(ticks=np.arange(0, 60, 10), rotation=0)\n",
    "#sns.move_legend(ax4, \"upper left\", bbox_to_anchor=(1, 1))\n",
    "\n",
    "\n",
    "if False:\n",
    "    for ax_ in [ax2, ax3, ax5, ax6]:\n",
    "        ax_.set_ylabel(None)\n",
    "        #ax_.set_yticklabels([])\n",
    "    \n",
    "    for ax_ in [ax1, ax2, ax3]:\n",
    "        ax_.set_xlabel(None)\n",
    "\n",
    "\n",
    "axes = [ax1, ax2, ax3, ax4]  #, ax5, ax6]\n",
    "labels = [\"A\", \"B\", \"C\", \"D\", \"E\", \"F\"]\n",
    "for i, (ax_, label_) in enumerate(zip(axes, labels)):\n",
    "    ax_.text(\n",
    "        #-0.1, 1.15,\n",
    "        0.09 if i != 3 else 0.051,\n",
    "        1.15,\n",
    "        label_,\n",
    "        transform=ax_.transAxes,\n",
    "        fontsize=14,\n",
    "        va='top',\n",
    "        ha='right'\n",
    "    )\n",
    "\n",
    "\n",
    "\n",
    "# plt.tight_layout()\n",
    "\n",
    "plt.show()\n",
    "plt.close()"
   ]
  },
  {
   "cell_type": "markdown",
   "id": "c99b3ea6-7a6c-4df9-98ec-90d89ad63dd0",
   "metadata": {},
   "source": [
    "## Save data and figure"
   ]
  },
  {
   "cell_type": "code",
   "execution_count": 37,
   "id": "ae47e857-ce61-449e-ad6a-79b10c0078f4",
   "metadata": {},
   "outputs": [
    {
     "name": "stdout",
     "output_type": "stream",
     "text": [
      "New filename: 'figure2_v19.png'\n"
     ]
    }
   ],
   "source": [
    "# get the highest version of the figure and name filename one higher\n",
    "version = max([int(re.search(r'v(\\d+)', filename).group(1)) for filename in glob.glob(\"figure2_v*.png\")]) + 1\n",
    "assert version < 100, \"Biggest version is 3 digits, you need a new string formatter\"\n",
    "new_filename = f\"figure2_v{version:02d}.png\"\n",
    "\n",
    "print(f\"New filename: '{new_filename}'\")\n",
    "\n",
    "plt.figure(fig)\n",
    "fig.savefig(new_filename, dpi=600)\n",
    "plt.close()"
   ]
  },
  {
   "cell_type": "code",
   "execution_count": null,
   "id": "499101b1-de0d-4a32-9233-bcd92c0d9573",
   "metadata": {},
   "outputs": [],
   "source": []
  },
  {
   "cell_type": "code",
   "execution_count": null,
   "id": "05a0064a-688d-404d-9d3b-4274881e06af",
   "metadata": {},
   "outputs": [],
   "source": []
  }
 ],
 "metadata": {
  "kernelspec": {
   "display_name": "Python 3 (ipykernel)",
   "language": "python",
   "name": "python3"
  },
  "language_info": {
   "codemirror_mode": {
    "name": "ipython",
    "version": 3
   },
   "file_extension": ".py",
   "mimetype": "text/x-python",
   "name": "python",
   "nbconvert_exporter": "python",
   "pygments_lexer": "ipython3",
   "version": "3.11.6"
  }
 },
 "nbformat": 4,
 "nbformat_minor": 5
}
